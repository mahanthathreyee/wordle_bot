{
 "cells": [
  {
   "cell_type": "code",
   "execution_count": 2,
   "metadata": {},
   "outputs": [],
   "source": [
    "import os\n",
    "import json\n",
    "import pandas as pd\n",
    "from tqdm import tqdm\n",
    "from pathlib import Path\n",
    "\n",
    "from util import file_util\n",
    "from wordle import first_guess_ig\n",
    "from model.context import Context\n",
    "from model.wordle_db import WordleDB"
   ]
  },
  {
   "cell_type": "code",
   "execution_count": 3,
   "metadata": {},
   "outputs": [],
   "source": [
    "DATA_DIR = Path('data/')\n",
    "FIRST_LIST_DIR = DATA_DIR / 'word_list.csv'\n",
    "FIRST_TREE_DIR = DATA_DIR / 'word_tree.csv'"
   ]
  },
  {
   "cell_type": "code",
   "execution_count": 4,
   "metadata": {},
   "outputs": [],
   "source": [
    "ctxt = Context()\n",
    "wordle_db = WordleDB()"
   ]
  },
  {
   "cell_type": "code",
   "execution_count": 5,
   "metadata": {},
   "outputs": [
    {
     "data": {
      "text/plain": [
       "('sales', 6.730287323548527)"
      ]
     },
     "execution_count": 5,
     "metadata": {},
     "output_type": "execute_result"
    }
   ],
   "source": [
    "base_word, base_word_ig = wordle_db.get_word_max_info(info_level=1)\n",
    "base_word, base_word_ig"
   ]
  },
  {
   "cell_type": "code",
   "execution_count": 9,
   "metadata": {},
   "outputs": [
    {
     "name": "stderr",
     "output_type": "stream",
     "text": [
      "100%|██████████| 1134/1134 [01:06<00:00, 16.96it/s]\n"
     ]
    },
    {
     "name": "stdout",
     "output_type": "stream",
     "text": [
      "      Word  Info Gain\n",
      "837  oorie   0.719045\n",
      "657  rorie   0.716092\n",
      "435  innie   0.711085\n",
      "633  ronne   0.710339\n",
      "647  trine   0.705599\n"
     ]
    },
    {
     "name": "stderr",
     "output_type": "stream",
     "text": [
      "100%|██████████| 68/68 [00:01<00:00, 55.12it/s]\n"
     ]
    },
    {
     "name": "stdout",
     "output_type": "stream",
     "text": [
      "     Word  Info Gain\n",
      "28  tenon   0.060354\n",
      "2   ennog   0.059010\n",
      "20  tenno   0.057573\n",
      "32  xenon   0.057458\n",
      "46  demon   0.055858\n"
     ]
    },
    {
     "name": "stderr",
     "output_type": "stream",
     "text": [
      "100%|██████████| 4/4 [00:00<00:00, 101.38it/s]\n"
     ]
    },
    {
     "name": "stdout",
     "output_type": "stream",
     "text": [
      "    Word  Info Gain\n",
      "0  devon   0.003732\n",
      "3  demon   0.003732\n",
      "1  pepon   0.003597\n",
      "2  pedon   0.003597\n"
     ]
    },
    {
     "name": "stderr",
     "output_type": "stream",
     "text": [
      "100%|██████████| 1/1 [00:00<00:00, 78.17it/s]\n"
     ]
    },
    {
     "name": "stdout",
     "output_type": "stream",
     "text": [
      "    Word  Info Gain\n",
      "0  demon   0.000933\n"
     ]
    },
    {
     "name": "stderr",
     "output_type": "stream",
     "text": [
      "100%|██████████| 1/1 [00:00<00:00, 85.70it/s]\n"
     ]
    },
    {
     "name": "stdout",
     "output_type": "stream",
     "text": [
      "    Word  Info Gain\n",
      "0  demon   0.000933\n"
     ]
    }
   ],
   "source": [
    "base_wordle = None\n",
    "\n",
    "while True:\n",
    "    guess = input()\n",
    "    if guess == 'exit': break\n",
    "    pattern = input()\n",
    "\n",
    "    base_wordle = first_guess_ig._compute_word_pattern(\n",
    "        guess=guess,\n",
    "        pattern=pattern,\n",
    "        base_wordle=base_wordle\n",
    "    )\n",
    "\n",
    "    res = {}\n",
    "    for word_id in tqdm(base_wordle.possible_words_left):\n",
    "        pos_word = ctxt.id_to_word_map[word_id]\n",
    "        nxt_word = first_guess_ig.compute_word_patterns(pos_word, base_wordle)\n",
    "        res[pos_word] = nxt_word.information_gain\n",
    "\n",
    "    df = pd.DataFrame(res.items(), columns=['Word', 'Info Gain'])\n",
    "    df = df.sort_values(by='Info Gain', ascending=False)\n",
    "    print(df.head())"
   ]
  },
  {
   "cell_type": "code",
   "execution_count": null,
   "metadata": {},
   "outputs": [],
   "source": []
  }
 ],
 "metadata": {
  "kernelspec": {
   "display_name": "env",
   "language": "python",
   "name": "python3"
  },
  "language_info": {
   "codemirror_mode": {
    "name": "ipython",
    "version": 3
   },
   "file_extension": ".py",
   "mimetype": "text/x-python",
   "name": "python",
   "nbconvert_exporter": "python",
   "pygments_lexer": "ipython3",
   "version": "3.11.2"
  }
 },
 "nbformat": 4,
 "nbformat_minor": 2
}
