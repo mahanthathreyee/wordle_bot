{
 "cells": [
  {
   "cell_type": "code",
   "execution_count": 1,
   "metadata": {},
   "outputs": [],
   "source": [
    "from enum import Enum"
   ]
  },
  {
   "cell_type": "code",
   "execution_count": 2,
   "metadata": {},
   "outputs": [],
   "source": [
    "class GUESS_TYPE(Enum):\n",
    "    NOT_PRESENT='0'\n",
    "    INCORRECT_POS='1'\n",
    "    CORRECT='2'\n",
    "\n",
    "OUTPUT = 'data/patterns.csv'"
   ]
  },
  {
   "cell_type": "code",
   "execution_count": 3,
   "metadata": {},
   "outputs": [],
   "source": [
    "PATTERNS = []"
   ]
  },
  {
   "cell_type": "code",
   "execution_count": 4,
   "metadata": {},
   "outputs": [],
   "source": [
    "def generate_pattern(pattern='', size_left=5):\n",
    "    if size_left == 0:\n",
    "        PATTERNS.append(pattern)\n",
    "        return\n",
    "    \n",
    "    for guess in GUESS_TYPE:\n",
    "        generate_pattern(pattern+guess.value, size_left-1)"
   ]
  },
  {
   "cell_type": "code",
   "execution_count": 5,
   "metadata": {},
   "outputs": [],
   "source": [
    "generate_pattern()\n",
    "\n",
    "with open(OUTPUT, 'w') as f:\n",
    "    f.write('\\n'.join(PATTERNS))"
   ]
  }
 ],
 "metadata": {
  "kernelspec": {
   "display_name": "env",
   "language": "python",
   "name": "python3"
  },
  "language_info": {
   "codemirror_mode": {
    "name": "ipython",
    "version": 3
   },
   "file_extension": ".py",
   "mimetype": "text/x-python",
   "name": "python",
   "nbconvert_exporter": "python",
   "pygments_lexer": "ipython3",
   "version": "3.11.2"
  }
 },
 "nbformat": 4,
 "nbformat_minor": 2
}
