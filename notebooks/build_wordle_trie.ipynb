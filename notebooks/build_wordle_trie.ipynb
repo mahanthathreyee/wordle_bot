{
 "cells": [
  {
   "cell_type": "code",
   "execution_count": 15,
   "metadata": {},
   "outputs": [],
   "source": [
    "import csv\n",
    "import json"
   ]
  },
  {
   "cell_type": "code",
   "execution_count": 16,
   "metadata": {},
   "outputs": [],
   "source": [
    "import os\n",
    "import sys\n",
    "from pathlib import Path\n",
    "\n",
    "CWD = Path(os.getcwd())\n",
    "sys.path.append(str(CWD.parent))\n",
    "from model.trie import Trie"
   ]
  },
  {
   "cell_type": "code",
   "execution_count": 17,
   "metadata": {},
   "outputs": [],
   "source": [
    "WORD_LIST_LOC = '../data/word_list.csv'\n",
    "OUTPUT = '../data/word_list_trie.json'"
   ]
  },
  {
   "cell_type": "code",
   "execution_count": 18,
   "metadata": {},
   "outputs": [],
   "source": [
    "WORD_LIST = []\n",
    "TRIE = {}"
   ]
  },
  {
   "cell_type": "code",
   "execution_count": 19,
   "metadata": {},
   "outputs": [],
   "source": [
    "def read_word_list():\n",
    "    with open(WORD_LIST_LOC) as f:\n",
    "        reader = csv.reader(f, delimiter='\\n')\n",
    "        return [row[0] for row in reader]\n",
    "\n",
    "WORD_LIST = read_word_list()\n",
    "\n",
    "WORD_TRIE = Trie()\n",
    "for word in WORD_LIST:\n",
    "    WORD_TRIE.add_word(word)"
   ]
  },
  {
   "cell_type": "code",
   "execution_count": 20,
   "metadata": {},
   "outputs": [],
   "source": [
    "with open(OUTPUT, 'w') as f:\n",
    "    json.dump(WORD_TRIE.root, f)"
   ]
  }
 ],
 "metadata": {
  "kernelspec": {
   "display_name": "env",
   "language": "python",
   "name": "python3"
  },
  "language_info": {
   "codemirror_mode": {
    "name": "ipython",
    "version": 3
   },
   "file_extension": ".py",
   "mimetype": "text/x-python",
   "name": "python",
   "nbconvert_exporter": "python",
   "pygments_lexer": "ipython3",
   "version": "3.11.2"
  }
 },
 "nbformat": 4,
 "nbformat_minor": 2
}
